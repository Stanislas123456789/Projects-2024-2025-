{
 "cells": [
  {
   "cell_type": "code",
   "execution_count": null,
   "metadata": {},
   "outputs": [],
   "source": [
    "# Importer les bibliothèques nécessaires\n",
    "import pandas as pd\n",
    "from sklearn.model_selection import train_test_split\n",
    "from sklearn.ensemble import RandomForestClassifier\n",
    "from sklearn.metrics import accuracy_score, classification_report\n",
    "from sklearn.preprocessing import StandardScaler\n",
    "import matplotlib.pyplot as plt\n",
    "import seaborn as sns\n",
    "\n",
    "# Charger les données (Simuler des données historiques ici)\n",
    "data = {\n",
    "    \"Symbol\": [\"EWTX\", \"ED\", \"CATX\", \"UTHR\", \"GSAT\", \"LAUR\", \"SSNC\", \"TECH\", \"CAG\", \"WMT\"],\n",
    "    \"Price Change\": [3.6, 1.5, 1.0, 1.0, 0.9, 0.8, 0.8, 0.5, 0.5, 0.4],\n",
    "    \"Option Volume\": [350, 289, 3, 7, 563, 3, 2, 1211, 2203, 81041],\n",
    "    \"Option Implied Straddle\": [9.7, 2.7, 11.7, 4.3, 6.3, 3.7, 3.7, 5.6, 1.9, 1.9],\n",
    "    \"Market Cap\": [2.7e9, 35.5e9, 893.9e6, 15.7e9, 2.2e9, 2.4e9, 18.1e9, 11.7e9, 14.0e9, 638.7e9],\n",
    "    \"Price Increased\": [1, 1, 0, 1, 1, 0, 0, 1, 1, 1]  # 1 si l'action a monté, 0 sinon\n",
    "}\n",
    "\n",
    "# Convertir en DataFrame\n",
    "df = pd.DataFrame(data)\n",
    "\n",
    "# Afficher les premières lignes des données\n",
    "df.head()\n"
   ]
  },
  {
   "cell_type": "markdown",
   "metadata": {},
   "source": [
    "Entrainement des donnés"
   ]
  },
  {
   "cell_type": "code",
   "execution_count": null,
   "metadata": {},
   "outputs": [],
   "source": [
    "# Séparer les caractéristiques (features) et la cible (target)\n",
    "X = df[[\"Price Change\", \"Option Volume\", \"Option Implied Straddle\", \"Market Cap\"]]\n",
    "y = df[\"Price Increased\"]\n",
    "\n",
    "# Diviser les données en ensemble d'entraînement et de test\n",
    "X_train, X_test, y_train, y_test = train_test_split(X, y, test_size=0.2, random_state=42)\n",
    "\n",
    "# Normaliser les données (pour certains modèles, cela peut améliorer la performance)\n",
    "scaler = StandardScaler()\n",
    "X_train = scaler.fit_transform(X_train)\n",
    "X_test = scaler.transform(X_test)\n",
    "\n",
    "# Afficher les données normalisées\n",
    "X_train[:5]  # Afficher les premières lignes des données normalisées\n"
   ]
  },
  {
   "cell_type": "code",
   "execution_count": null,
   "metadata": {},
   "outputs": [],
   "source": [
    "# Modèle Random Forest\n",
    "clf = RandomForestClassifier(n_estimators=100, random_state=42)\n",
    "clf.fit(X_train, y_train)\n",
    "\n",
    "# Faire des prédictions sur l'ensemble de test\n",
    "y_pred = clf.predict(X_test)\n",
    "\n",
    "# Évaluer la performance\n",
    "accuracy = accuracy_score(y_test, y_pred)\n",
    "print(f\"Accuracy: {accuracy}\")\n",
    "print(\"Classification Report:\\n\", classification_report(y_test, y_pred))\n"
   ]
  },
  {
   "cell_type": "code",
   "execution_count": null,
   "metadata": {},
   "outputs": [],
   "source": [
    "# Importance des caractéristiques\n",
    "importances = clf.feature_importances_\n",
    "features = X.columns\n",
    "\n",
    "# Créer un graphique en barre pour visualiser l'importance des caractéristiques\n",
    "sns.barplot(x=importances, y=features)\n",
    "plt.title(\"Importance des caractéristiques\")\n",
    "plt.show()\n"
   ]
  },
  {
   "cell_type": "code",
   "execution_count": null,
   "metadata": {},
   "outputs": [],
   "source": [
    "# Simuler les données des événements de demain (ou les importer)\n",
    "df_tomorrow = pd.DataFrame({\n",
    "    \"Price Change\": [3.6, 1.5, 1.0, 0.9],  # Remplir avec de vraies valeurs\n",
    "    \"Option Volume\": [350, 289, 563, 563],\n",
    "    \"Option Implied Straddle\": [9.7, 2.7, 6.3, 6.3],\n",
    "    \"Market Cap\": [2.7e9, 35.5e9, 2.2e9, 2.2e9]\n",
    "})\n",
    "\n",
    "# Normaliser les nouvelles données\n",
    "df_tomorrow_scaled = scaler.transform(df_tomorrow)\n",
    "\n",
    "# Prédire avec le modèle entraîné\n",
    "predictions = clf.predict(df_tomorrow_scaled)\n",
    "\n",
    "# Afficher les prédictions\n",
    "print(\"Prédictions pour les actions de demain:\", predictions)\n"
   ]
  }
 ],
 "metadata": {
  "kernelspec": {
   "display_name": "Python 3",
   "language": "python",
   "name": "python3"
  },
  "language_info": {
   "codemirror_mode": {
    "name": "ipython",
    "version": 3
   },
   "file_extension": ".py",
   "mimetype": "text/x-python",
   "name": "python",
   "nbconvert_exporter": "python",
   "pygments_lexer": "ipython3",
   "version": "3.12.4"
  }
 },
 "nbformat": 4,
 "nbformat_minor": 2
}
